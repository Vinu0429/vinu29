{
 "cells": [
  {
   "cell_type": "code",
   "execution_count": 1,
   "id": "c29c3f30-f4ae-4c91-a8c9-f05b73134171",
   "metadata": {},
   "outputs": [
    {
     "name": "stdout",
     "output_type": "stream",
     "text": [
      "hello\n"
     ]
    }
   ],
   "source": [
    "print (\"hello\")"
   ]
  },
  {
   "cell_type": "code",
   "execution_count": 2,
   "id": "bcaa950b-95e1-4c2c-a312-1b23148b6f8c",
   "metadata": {},
   "outputs": [],
   "source": [
    "first_name = \"vinay\"\n",
    "last_name= \"desai\""
   ]
  },
  {
   "cell_type": "code",
   "execution_count": 3,
   "id": "f70bf17f-b15c-4835-873b-2c639e19c688",
   "metadata": {},
   "outputs": [],
   "source": [
    "full_name = \"vinay desai \""
   ]
  },
  {
   "cell_type": "code",
   "execution_count": 4,
   "id": "9cd3d186-7575-4413-8f0b-2642ae186d16",
   "metadata": {},
   "outputs": [
    {
     "name": "stdout",
     "output_type": "stream",
     "text": [
      "vinay desai \n"
     ]
    }
   ],
   "source": [
    "print(full_name)"
   ]
  },
  {
   "cell_type": "code",
   "execution_count": 5,
   "id": "868cd953-2a48-45a5-8a5a-bf5800fa1a0a",
   "metadata": {},
   "outputs": [],
   "source": [
    "s = \" vinay loves pragati\""
   ]
  },
  {
   "cell_type": "code",
   "execution_count": 6,
   "id": "6a2e8bc2-1286-4ca2-a15b-b661956dd0d0",
   "metadata": {},
   "outputs": [
    {
     "data": {
      "text/plain": [
       "str"
      ]
     },
     "execution_count": 6,
     "metadata": {},
     "output_type": "execute_result"
    }
   ],
   "source": [
    "type(s)"
   ]
  },
  {
   "cell_type": "code",
   "execution_count": 7,
   "id": "6368dcb2-ff5d-4bd4-bdc8-1ba7e7f91a78",
   "metadata": {},
   "outputs": [
    {
     "data": {
      "text/plain": [
       "20"
      ]
     },
     "execution_count": 7,
     "metadata": {},
     "output_type": "execute_result"
    }
   ],
   "source": [
    "len(s)"
   ]
  },
  {
   "cell_type": "code",
   "execution_count": 8,
   "id": "046d2dde-4028-4dcd-8dd2-d68b71358ff5",
   "metadata": {},
   "outputs": [
    {
     "data": {
      "text/plain": [
       "' vinay lov'"
      ]
     },
     "execution_count": 8,
     "metadata": {},
     "output_type": "execute_result"
    }
   ],
   "source": [
    "s[0:10]"
   ]
  },
  {
   "cell_type": "code",
   "execution_count": 9,
   "id": "220094ac-f40f-4ce4-bf92-31af556a7481",
   "metadata": {},
   "outputs": [
    {
     "data": {
      "text/plain": [
       "' vinay loves'"
      ]
     },
     "execution_count": 9,
     "metadata": {},
     "output_type": "execute_result"
    }
   ],
   "source": [
    "s[0:12]"
   ]
  },
  {
   "cell_type": "code",
   "execution_count": 10,
   "id": "cb8921e5-21b6-4eb2-96c1-4863978d1050",
   "metadata": {},
   "outputs": [
    {
     "data": {
      "text/plain": [
       "'loves pragati'"
      ]
     },
     "execution_count": 10,
     "metadata": {},
     "output_type": "execute_result"
    }
   ],
   "source": [
    "s[7:21]"
   ]
  },
  {
   "cell_type": "code",
   "execution_count": 11,
   "id": "4592e2b3-3c65-45df-951e-0ae4269bfe70",
   "metadata": {},
   "outputs": [],
   "source": [
    "#in a positive indexing we can measure the latterr left toi right side"
   ]
  },
  {
   "cell_type": "code",
   "execution_count": 12,
   "id": "603e49ce-47c1-434f-9723-62971f728b4b",
   "metadata": {},
   "outputs": [],
   "source": [
    "#in negative indexing we can measure the latter right side to left side "
   ]
  },
  {
   "cell_type": "code",
   "execution_count": 13,
   "id": "01ba95c4-b5e5-42cb-9207-ad17493ee7fa",
   "metadata": {},
   "outputs": [
    {
     "data": {
      "text/plain": [
       "'python is simple '"
      ]
     },
     "execution_count": 13,
     "metadata": {},
     "output_type": "execute_result"
    }
   ],
   "source": [
    "\"python is simple \""
   ]
  },
  {
   "cell_type": "code",
   "execution_count": 14,
   "id": "02a34ad3-c428-4db4-b3c9-81fb62273b49",
   "metadata": {},
   "outputs": [
    {
     "data": {
      "text/plain": [
       "'PYTHON IS SIMPLE'"
      ]
     },
     "execution_count": 14,
     "metadata": {},
     "output_type": "execute_result"
    }
   ],
   "source": [
    "\"python is simple\".upper()"
   ]
  },
  {
   "cell_type": "code",
   "execution_count": 15,
   "id": "52996c65-db80-43cd-a934-5ede3ec145a6",
   "metadata": {},
   "outputs": [
    {
     "data": {
      "text/plain": [
       "'Python Is Simjple'"
      ]
     },
     "execution_count": 15,
     "metadata": {},
     "output_type": "execute_result"
    }
   ],
   "source": [
    "\"python is simjple\".title()"
   ]
  },
  {
   "cell_type": "code",
   "execution_count": 16,
   "id": "0d42b806-ed33-410f-b092-603f3ce949e2",
   "metadata": {},
   "outputs": [],
   "source": [
    "#list (1-100)"
   ]
  },
  {
   "cell_type": "code",
   "execution_count": 17,
   "id": "e34ca122-7964-4557-9c5c-360054ed5f20",
   "metadata": {},
   "outputs": [
    {
     "data": {
      "text/plain": [
       "[1,\n",
       " 2,\n",
       " 3,\n",
       " 4,\n",
       " 5,\n",
       " 6,\n",
       " 7,\n",
       " 8,\n",
       " 9,\n",
       " 10,\n",
       " 11,\n",
       " 12,\n",
       " 13,\n",
       " 14,\n",
       " 15,\n",
       " 16,\n",
       " 17,\n",
       " 18,\n",
       " 19,\n",
       " 20,\n",
       " 21,\n",
       " 22,\n",
       " 23,\n",
       " 24,\n",
       " 25,\n",
       " 26,\n",
       " 27,\n",
       " 28,\n",
       " 29,\n",
       " 30,\n",
       " 31,\n",
       " 32,\n",
       " 33,\n",
       " 34,\n",
       " 35,\n",
       " 36,\n",
       " 37,\n",
       " 38,\n",
       " 39,\n",
       " 40,\n",
       " 41,\n",
       " 42,\n",
       " 43,\n",
       " 44,\n",
       " 45,\n",
       " 46,\n",
       " 47,\n",
       " 48,\n",
       " 49,\n",
       " 50,\n",
       " 51,\n",
       " 52,\n",
       " 53,\n",
       " 54,\n",
       " 55,\n",
       " 56,\n",
       " 57,\n",
       " 58,\n",
       " 59,\n",
       " 60,\n",
       " 61,\n",
       " 62,\n",
       " 63,\n",
       " 64,\n",
       " 65,\n",
       " 66,\n",
       " 67,\n",
       " 68,\n",
       " 69,\n",
       " 70,\n",
       " 71,\n",
       " 72,\n",
       " 73,\n",
       " 74,\n",
       " 75,\n",
       " 76,\n",
       " 77,\n",
       " 78,\n",
       " 79,\n",
       " 80,\n",
       " 81,\n",
       " 82,\n",
       " 83,\n",
       " 84,\n",
       " 85,\n",
       " 86,\n",
       " 87,\n",
       " 88,\n",
       " 89,\n",
       " 90,\n",
       " 91,\n",
       " 92,\n",
       " 93,\n",
       " 94,\n",
       " 95,\n",
       " 96,\n",
       " 97,\n",
       " 98,\n",
       " 99,\n",
       " 100]"
      ]
     },
     "execution_count": 17,
     "metadata": {},
     "output_type": "execute_result"
    }
   ],
   "source": [
    "list(range(1,101))"
   ]
  },
  {
   "cell_type": "code",
   "execution_count": 18,
   "id": "b9b1fbed-b1ec-4b10-8791-6dd4149f40df",
   "metadata": {},
   "outputs": [
    {
     "data": {
      "text/plain": [
       "[1,\n",
       " 2,\n",
       " 3,\n",
       " 4,\n",
       " 5,\n",
       " 6,\n",
       " 7,\n",
       " 8,\n",
       " 9,\n",
       " 10,\n",
       " 11,\n",
       " 12,\n",
       " 13,\n",
       " 14,\n",
       " 15,\n",
       " 16,\n",
       " 17,\n",
       " 18,\n",
       " 19,\n",
       " 20,\n",
       " 21,\n",
       " 22,\n",
       " 23,\n",
       " 24,\n",
       " 25,\n",
       " 26,\n",
       " 27,\n",
       " 28,\n",
       " 29,\n",
       " 30,\n",
       " 31,\n",
       " 32,\n",
       " 33,\n",
       " 34,\n",
       " 35,\n",
       " 36,\n",
       " 37,\n",
       " 38,\n",
       " 39,\n",
       " 40,\n",
       " 41,\n",
       " 42,\n",
       " 43,\n",
       " 44,\n",
       " 45,\n",
       " 46,\n",
       " 47,\n",
       " 48,\n",
       " 49,\n",
       " 50,\n",
       " 51,\n",
       " 52,\n",
       " 53,\n",
       " 54,\n",
       " 55,\n",
       " 56,\n",
       " 57,\n",
       " 58,\n",
       " 59,\n",
       " 60,\n",
       " 61,\n",
       " 62,\n",
       " 63,\n",
       " 64,\n",
       " 65,\n",
       " 66,\n",
       " 67,\n",
       " 68,\n",
       " 69,\n",
       " 70,\n",
       " 71,\n",
       " 72,\n",
       " 73,\n",
       " 74,\n",
       " 75,\n",
       " 76,\n",
       " 77,\n",
       " 78,\n",
       " 79,\n",
       " 80,\n",
       " 81,\n",
       " 82,\n",
       " 83,\n",
       " 84,\n",
       " 85,\n",
       " 86,\n",
       " 87,\n",
       " 88,\n",
       " 89,\n",
       " 90,\n",
       " 91,\n",
       " 92,\n",
       " 93,\n",
       " 94,\n",
       " 95,\n",
       " 96,\n",
       " 97,\n",
       " 98,\n",
       " 99,\n",
       " 100,\n",
       " 101,\n",
       " 102,\n",
       " 103,\n",
       " 104,\n",
       " 105,\n",
       " 106,\n",
       " 107,\n",
       " 108,\n",
       " 109,\n",
       " 110,\n",
       " 111,\n",
       " 112,\n",
       " 113,\n",
       " 114,\n",
       " 115,\n",
       " 116,\n",
       " 117,\n",
       " 118,\n",
       " 119,\n",
       " 120,\n",
       " 121,\n",
       " 122,\n",
       " 123,\n",
       " 124,\n",
       " 125,\n",
       " 126,\n",
       " 127,\n",
       " 128,\n",
       " 129,\n",
       " 130,\n",
       " 131,\n",
       " 132,\n",
       " 133,\n",
       " 134,\n",
       " 135,\n",
       " 136,\n",
       " 137,\n",
       " 138,\n",
       " 139,\n",
       " 140,\n",
       " 141,\n",
       " 142,\n",
       " 143,\n",
       " 144,\n",
       " 145,\n",
       " 146,\n",
       " 147,\n",
       " 148,\n",
       " 149,\n",
       " 150,\n",
       " 151,\n",
       " 152,\n",
       " 153,\n",
       " 154,\n",
       " 155,\n",
       " 156,\n",
       " 157,\n",
       " 158,\n",
       " 159,\n",
       " 160,\n",
       " 161,\n",
       " 162,\n",
       " 163,\n",
       " 164,\n",
       " 165,\n",
       " 166,\n",
       " 167,\n",
       " 168,\n",
       " 169,\n",
       " 170,\n",
       " 171,\n",
       " 172,\n",
       " 173,\n",
       " 174,\n",
       " 175,\n",
       " 176,\n",
       " 177,\n",
       " 178,\n",
       " 179,\n",
       " 180,\n",
       " 181,\n",
       " 182,\n",
       " 183,\n",
       " 184,\n",
       " 185,\n",
       " 186,\n",
       " 187,\n",
       " 188,\n",
       " 189,\n",
       " 190,\n",
       " 191,\n",
       " 192,\n",
       " 193,\n",
       " 194,\n",
       " 195,\n",
       " 196,\n",
       " 197,\n",
       " 198,\n",
       " 199]"
      ]
     },
     "execution_count": 18,
     "metadata": {},
     "output_type": "execute_result"
    }
   ],
   "source": [
    "list(range(1,200))"
   ]
  },
  {
   "cell_type": "code",
   "execution_count": 19,
   "id": "2f3a99d7-11a1-47c4-bacb-c98025233520",
   "metadata": {},
   "outputs": [],
   "source": [
    "s = \"gate smashers\""
   ]
  },
  {
   "cell_type": "code",
   "execution_count": 20,
   "id": "57cab85e-1f74-4bd4-bda6-5f796c28b268",
   "metadata": {},
   "outputs": [],
   "source": [
    "#slicing \n",
    "# s[start:stop:step]"
   ]
  },
  {
   "cell_type": "code",
   "execution_count": 21,
   "id": "6bd13c72-5dfd-4b1d-9a0d-d7caa777c3f5",
   "metadata": {},
   "outputs": [
    {
     "data": {
      "text/plain": [
       "'gate smashers'"
      ]
     },
     "execution_count": 21,
     "metadata": {},
     "output_type": "execute_result"
    }
   ],
   "source": [
    "s"
   ]
  },
  {
   "cell_type": "code",
   "execution_count": 22,
   "id": "0434723b-5580-467e-ab2e-822c9d0cbf26",
   "metadata": {},
   "outputs": [
    {
     "data": {
      "text/plain": [
       "'smash'"
      ]
     },
     "execution_count": 22,
     "metadata": {},
     "output_type": "execute_result"
    }
   ],
   "source": [
    "s[5:10]"
   ]
  },
  {
   "cell_type": "code",
   "execution_count": 23,
   "id": "0d8e746e-fa69-4abf-8edb-f93e4f731a90",
   "metadata": {},
   "outputs": [
    {
     "data": {
      "text/plain": [
       "'e smashe'"
      ]
     },
     "execution_count": 23,
     "metadata": {},
     "output_type": "execute_result"
    }
   ],
   "source": [
    "s[3:11]"
   ]
  },
  {
   "cell_type": "code",
   "execution_count": 24,
   "id": "82241bd4-4510-4428-a5ca-43b7024f12c8",
   "metadata": {},
   "outputs": [
    {
     "data": {
      "text/plain": [
       "'aesahr'"
      ]
     },
     "execution_count": 24,
     "metadata": {},
     "output_type": "execute_result"
    }
   ],
   "source": [
    "s[1:12:2]"
   ]
  },
  {
   "cell_type": "markdown",
   "id": "a7afb27b-c3fe-4950-a42b-49c5a93963f1",
   "metadata": {},
   "source": [
    "# if statement "
   ]
  },
  {
   "cell_type": "code",
   "execution_count": 26,
   "id": "9622ee66-ba8e-4656-b7ad-60cc4e9e1c00",
   "metadata": {},
   "outputs": [
    {
     "ename": "KeyboardInterrupt",
     "evalue": "Interrupted by user",
     "output_type": "error",
     "traceback": [
      "\u001b[1;31m---------------------------------------------------------------------------\u001b[0m",
      "\u001b[1;31mKeyboardInterrupt\u001b[0m                         Traceback (most recent call last)",
      "Cell \u001b[1;32mIn[26], line 1\u001b[0m\n\u001b[1;32m----> 1\u001b[0m val \u001b[38;5;241m=\u001b[39m \u001b[38;5;28;43minput\u001b[39;49m\u001b[43m(\u001b[49m\u001b[38;5;124;43m\"\u001b[39;49m\u001b[38;5;124;43menter the number \u001b[39;49m\u001b[38;5;124;43m\"\u001b[39;49m\u001b[43m)\u001b[49m\n\u001b[0;32m      2\u001b[0m value_float \u001b[38;5;241m=\u001b[39m \u001b[38;5;28mfloat\u001b[39m(val)\n\u001b[0;32m      3\u001b[0m \u001b[38;5;28mprint\u001b[39m(value_float)\n",
      "File \u001b[1;32m~\\AppData\\Roaming\\Python\\Python312\\site-packages\\ipykernel\\kernelbase.py:1282\u001b[0m, in \u001b[0;36mKernel.raw_input\u001b[1;34m(self, prompt)\u001b[0m\n\u001b[0;32m   1280\u001b[0m     msg \u001b[38;5;241m=\u001b[39m \u001b[38;5;124m\"\u001b[39m\u001b[38;5;124mraw_input was called, but this frontend does not support input requests.\u001b[39m\u001b[38;5;124m\"\u001b[39m\n\u001b[0;32m   1281\u001b[0m     \u001b[38;5;28;01mraise\u001b[39;00m StdinNotImplementedError(msg)\n\u001b[1;32m-> 1282\u001b[0m \u001b[38;5;28;01mreturn\u001b[39;00m \u001b[38;5;28;43mself\u001b[39;49m\u001b[38;5;241;43m.\u001b[39;49m\u001b[43m_input_request\u001b[49m\u001b[43m(\u001b[49m\n\u001b[0;32m   1283\u001b[0m \u001b[43m    \u001b[49m\u001b[38;5;28;43mstr\u001b[39;49m\u001b[43m(\u001b[49m\u001b[43mprompt\u001b[49m\u001b[43m)\u001b[49m\u001b[43m,\u001b[49m\n\u001b[0;32m   1284\u001b[0m \u001b[43m    \u001b[49m\u001b[38;5;28;43mself\u001b[39;49m\u001b[38;5;241;43m.\u001b[39;49m\u001b[43m_parent_ident\u001b[49m\u001b[43m[\u001b[49m\u001b[38;5;124;43m\"\u001b[39;49m\u001b[38;5;124;43mshell\u001b[39;49m\u001b[38;5;124;43m\"\u001b[39;49m\u001b[43m]\u001b[49m\u001b[43m,\u001b[49m\n\u001b[0;32m   1285\u001b[0m \u001b[43m    \u001b[49m\u001b[38;5;28;43mself\u001b[39;49m\u001b[38;5;241;43m.\u001b[39;49m\u001b[43mget_parent\u001b[49m\u001b[43m(\u001b[49m\u001b[38;5;124;43m\"\u001b[39;49m\u001b[38;5;124;43mshell\u001b[39;49m\u001b[38;5;124;43m\"\u001b[39;49m\u001b[43m)\u001b[49m\u001b[43m,\u001b[49m\n\u001b[0;32m   1286\u001b[0m \u001b[43m    \u001b[49m\u001b[43mpassword\u001b[49m\u001b[38;5;241;43m=\u001b[39;49m\u001b[38;5;28;43;01mFalse\u001b[39;49;00m\u001b[43m,\u001b[49m\n\u001b[0;32m   1287\u001b[0m \u001b[43m\u001b[49m\u001b[43m)\u001b[49m\n",
      "File \u001b[1;32m~\\AppData\\Roaming\\Python\\Python312\\site-packages\\ipykernel\\kernelbase.py:1325\u001b[0m, in \u001b[0;36mKernel._input_request\u001b[1;34m(self, prompt, ident, parent, password)\u001b[0m\n\u001b[0;32m   1322\u001b[0m \u001b[38;5;28;01mexcept\u001b[39;00m \u001b[38;5;167;01mKeyboardInterrupt\u001b[39;00m:\n\u001b[0;32m   1323\u001b[0m     \u001b[38;5;66;03m# re-raise KeyboardInterrupt, to truncate traceback\u001b[39;00m\n\u001b[0;32m   1324\u001b[0m     msg \u001b[38;5;241m=\u001b[39m \u001b[38;5;124m\"\u001b[39m\u001b[38;5;124mInterrupted by user\u001b[39m\u001b[38;5;124m\"\u001b[39m\n\u001b[1;32m-> 1325\u001b[0m     \u001b[38;5;28;01mraise\u001b[39;00m \u001b[38;5;167;01mKeyboardInterrupt\u001b[39;00m(msg) \u001b[38;5;28;01mfrom\u001b[39;00m \u001b[38;5;28;01mNone\u001b[39;00m\n\u001b[0;32m   1326\u001b[0m \u001b[38;5;28;01mexcept\u001b[39;00m \u001b[38;5;167;01mException\u001b[39;00m:\n\u001b[0;32m   1327\u001b[0m     \u001b[38;5;28mself\u001b[39m\u001b[38;5;241m.\u001b[39mlog\u001b[38;5;241m.\u001b[39mwarning(\u001b[38;5;124m\"\u001b[39m\u001b[38;5;124mInvalid Message:\u001b[39m\u001b[38;5;124m\"\u001b[39m, exc_info\u001b[38;5;241m=\u001b[39m\u001b[38;5;28;01mTrue\u001b[39;00m)\n",
      "\u001b[1;31mKeyboardInterrupt\u001b[0m: Interrupted by user"
     ]
    }
   ],
   "source": [
    "val = input(\"enter the number \")\n",
    "value_float = float(val)\n",
    "print(value_float)\n"
   ]
  },
  {
   "cell_type": "code",
   "execution_count": null,
   "id": "eec1476d-d538-4297-b19c-e4520e9fd0c6",
   "metadata": {},
   "outputs": [],
   "source": [
    "val = input(\"enter the number \")\n",
    "value_float = float(val)\n",
    "if(value_float>100):\n",
    "    print(\"the number is greater than 100\")"
   ]
  },
  {
   "cell_type": "code",
   "execution_count": null,
   "id": "3d0b84ba-8dc6-41a5-abc2-b65c3c5e28c4",
   "metadata": {},
   "outputs": [],
   "source": [
    "val = input(\"enter the number \")\n",
    "value_float = float(val)\n",
    "if(value_float>100):\n",
    "    print(\"the number is greater than 100\")\n",
    "    "
   ]
  },
  {
   "cell_type": "code",
   "execution_count": null,
   "id": "8f41c729-4bce-485e-876e-eed4b1b350e1",
   "metadata": {},
   "outputs": [],
   "source": [
    "val = input(\"enter the number \")\n",
    "value_float = float(val)\n",
    "if(value_float%2==0):\n",
    "    print(\"the number is even\")"
   ]
  },
  {
   "cell_type": "code",
   "execution_count": null,
   "id": "c06273b6-4c1f-4fc7-93f9-46899407bbda",
   "metadata": {},
   "outputs": [],
   "source": [
    "val = input(\"enter the number \")\n",
    "value_float = float(val)\n",
    "if(value_float%2==0):\n",
    "    print(\"the number is even\")\n",
    "else:\n",
    "    print(\"the number is odd\")"
   ]
  },
  {
   "cell_type": "code",
   "execution_count": null,
   "id": "a81a65fb-1889-4c8a-961f-115696e92a9b",
   "metadata": {},
   "outputs": [],
   "source": []
  },
  {
   "cell_type": "code",
   "execution_count": null,
   "id": "3ebbbf88-76fc-4f77-915c-5dbb9b0eb081",
   "metadata": {},
   "outputs": [],
   "source": [
    "val = input(\"enter the number \")\n",
    "value_float = float(val)\n",
    "if(value_float%5==0):\n",
    "    print(\"the number is even\")\n",
    "else:\n",
    "    print(\"the number is odd\")"
   ]
  },
  {
   "cell_type": "code",
   "execution_count": null,
   "id": "979868b8-8b7e-40eb-bed6-f7cf0e995c3b",
   "metadata": {},
   "outputs": [],
   "source": [
    "val = input (\"enter the number \")\n",
    "value_float = float(val)\n",
    "if (value_float%10==0):\n",
    "    print(\"the number is even\")\n",
    "else:\n",
    "    print(\"the number is odd\")"
   ]
  },
  {
   "cell_type": "code",
   "execution_count": null,
   "id": "853746ef-9711-4c89-9478-8eedbd69176d",
   "metadata": {},
   "outputs": [],
   "source": [
    "age = float(input(\"enter the age\"))\n",
    "if(age<18):\n",
    "    print(\"minor age\")\n",
    "    "
   ]
  },
  {
   "cell_type": "code",
   "execution_count": null,
   "id": "86256729-f77c-459c-b1e3-feddaafefe0c",
   "metadata": {},
   "outputs": [],
   "source": [
    "age = float(input(\"enter the age\"))\n",
    "if(age<18):\n",
    "    print(\"minor age\")\n",
    "elif(age>=18 and age<=35):\n",
    "    print(\"mid age \")\n",
    "elif(age>45 and age<=50):\n",
    "    print(\"senior mid age\")\n",
    "    "
   ]
  },
  {
   "cell_type": "code",
   "execution_count": null,
   "id": "97220bdb-c17e-4445-bcba-41d2c1323609",
   "metadata": {},
   "outputs": [],
   "source": [
    "#elif conditions we are taken from many ties f0r the opretions and conditions \n",
    "# elif means if+ else "
   ]
  },
  {
   "cell_type": "code",
   "execution_count": null,
   "id": "13401ef6-62e1-4b8f-8a88-457368d4f818",
   "metadata": {},
   "outputs": [],
   "source": [
    "age = float(input(\"enter the age\"))\n",
    "if (age>18):\n",
    "    print(\"you are applicabal for drink\")\n",
    "else:\n",
    "    print(\"you are not applicable for drink\")"
   ]
  },
  {
   "cell_type": "markdown",
   "id": "66ccfbc6-2502-4a88-8c57-0900e424f15b",
   "metadata": {},
   "source": [
    "# loops statement \n",
    "## for loop and while loop"
   ]
  },
  {
   "cell_type": "code",
   "execution_count": null,
   "id": "5be692ae-85fe-4dff-942c-025cb092532c",
   "metadata": {},
   "outputs": [],
   "source": [
    "vinay = [1,2,3,4,5,6]\n",
    "for i in vinay :\n",
    "    print(i)"
   ]
  },
  {
   "cell_type": "code",
   "execution_count": null,
   "id": "2921817d-4043-46ad-918e-07adf9702b50",
   "metadata": {},
   "outputs": [],
   "source": [
    "print(i**2)"
   ]
  },
  {
   "cell_type": "code",
   "execution_count": null,
   "id": "ac77a620-0bc4-4e0b-85e1-c15b87bc25d7",
   "metadata": {},
   "outputs": [],
   "source": [
    "vinay = [1,2,3,4,5,6]\n",
    "for i in vinay :\n",
    "    print(i**2)"
   ]
  },
  {
   "cell_type": "code",
   "execution_count": null,
   "id": "103abfb3-e79a-4132-aa4b-ec82adf0435e",
   "metadata": {},
   "outputs": [],
   "source": [
    "# we can solve various opreations in the for loops like methameticall and aretheemeticals "
   ]
  },
  {
   "cell_type": "code",
   "execution_count": null,
   "id": "2897ede2-ac64-442c-b61d-89b8c65c9640",
   "metadata": {},
   "outputs": [],
   "source": [
    "#find the sum of all number\n",
    "vinay = [1,2,3,4,5,6]\n",
    "sum1 = 0\n",
    "for i in vinay :\n",
    "    sum1=sum1 + i\n",
    "\n",
    "print(sum1)"
   ]
  },
  {
   "cell_type": "code",
   "execution_count": null,
   "id": "d66a5bfb-8b3b-4612-be05-7f5c78bf9657",
   "metadata": {},
   "outputs": [],
   "source": [
    "#find the sum of even and odd number \n",
    "vinay =[1,2,3,4,5,6]\n",
    "even_sum=0\n",
    "odd_sum=0\n",
    "\n",
    "for i in vinay:\n",
    "    if (i%2==0):\n",
    "         even_sum=even_sum+i\n",
    "    else:\n",
    "         odd_sum=odd_sum+i\n",
    "print(\"even sum is {}\".format(even_sum))\n",
    "print(\"odd sum is {}\".format(odd_sum))"
   ]
  },
  {
   "cell_type": "code",
   "execution_count": null,
   "id": "1a0cfa45-d34e-48c9-9b27-ac09205aafff",
   "metadata": {},
   "outputs": [],
   "source": [
    "# input"
   ]
  },
  {
   "cell_type": "code",
   "execution_count": null,
   "id": "2c7cea36-6498-4424-a8d8-d440ad58bf77",
   "metadata": {},
   "outputs": [],
   "source": [
    "input(\"enter the name\")"
   ]
  },
  {
   "cell_type": "code",
   "execution_count": null,
   "id": "09b3998c-cc4b-43a1-bbc3-6d4a0923748d",
   "metadata": {},
   "outputs": [],
   "source": [
    " a=input ('enter the number a')\n",
    "b = input ('enter the number b')\n",
    "print (a + b)"
   ]
  },
  {
   "cell_type": "code",
   "execution_count": null,
   "id": "d2c0bad1-4d69-4e46-9630-6eb7d4e6d25b",
   "metadata": {},
   "outputs": [],
   "source": [
    "print(a+b)"
   ]
  },
  {
   "cell_type": "markdown",
   "id": "00a068ce-8312-4f80-94f8-32d5c5845170",
   "metadata": {},
   "source": [
    "# IF STATEMENT OF PYTHON "
   ]
  },
  {
   "cell_type": "code",
   "execution_count": null,
   "id": "31a107b7-df1b-460c-8890-c19f58b7da40",
   "metadata": {},
   "outputs": [],
   "source": [
    " val = input('enter the number ')\n",
    "value_float = float (val)\n",
    "print(value_float)"
   ]
  },
  {
   "cell_type": "code",
   "execution_count": null,
   "id": "e6346b02-7094-47b1-8062-9ce6f9f22706",
   "metadata": {},
   "outputs": [],
   "source": [
    "val = input ('enter the number ')\n",
    "value_float = float(val)\n",
    "if(value_float > 100):\n",
    "    print('the number is greater than 100')"
   ]
  },
  {
   "cell_type": "code",
   "execution_count": null,
   "id": "304471cf-a641-400e-a876-2d8502ebbf35",
   "metadata": {},
   "outputs": [],
   "source": [
    "val = input ('enter the value ')\n",
    "value_float = float(val)\n",
    "if(value_float > 100):\n",
    "    print('the number is positive')\n",
    "else:\n",
    "    print('the number is negative')"
   ]
  },
  {
   "cell_type": "code",
   "execution_count": null,
   "id": "2151cd3f-6cd1-4341-847e-e209d3a2270c",
   "metadata": {},
   "outputs": [],
   "source": [
    "val = input ('enter the value ')\n",
    "value_float = float(val)\n",
    "if(value_float%2==0):\n",
    "    print('the number is positive')\n",
    "else:\n",
    "    print('the number is negative')\n",
    "    "
   ]
  },
  {
   "cell_type": "code",
   "execution_count": null,
   "id": "d51707dc-7e68-4261-aaeb-3a4d0beefeb1",
   "metadata": {},
   "outputs": [],
   "source": [
    "val = input ('enter the number')\n",
    "value_float = float(val)\n",
    "if(value_float%2==0):\n",
    "    print('the number is even')\n",
    "else:\n",
    "    print('the number is odd')"
   ]
  },
  {
   "cell_type": "code",
   "execution_count": null,
   "id": "e7a51499-5890-4566-9348-fbea360fd0dc",
   "metadata": {},
   "outputs": [],
   "source": [
    "val = float(input(\"enter the age \"))\n",
    "print(val)"
   ]
  },
  {
   "cell_type": "code",
   "execution_count": null,
   "id": "ebbf722a-68a7-43d9-88a6-4bb52b585a32",
   "metadata": {},
   "outputs": [],
   "source": [
    "val = float(input(\"enter the age \"))\n",
    "\n",
    "\n",
    "if(age<18):\n",
    "    print ('mionr age')\n",
    "else:\n",
    "    print(\"you are not minor\")"
   ]
  },
  {
   "cell_type": "code",
   "execution_count": null,
   "id": "872e8993-048b-4520-980e-bebc45fd1ada",
   "metadata": {},
   "outputs": [],
   "source": [
    " age = float(input(\"enter the age\"))\n",
    "if(age<18):\n",
    "    print(\"minor age\")\n",
    "elif(age>= 18 and age<= 35):\n",
    "    print('mid age')\n",
    "    "
   ]
  },
  {
   "cell_type": "markdown",
   "id": "0264ffbd-3682-421c-8b62-df17e8f69757",
   "metadata": {},
   "source": [
    "# loop statement "
   ]
  },
  {
   "cell_type": "code",
   "execution_count": null,
   "id": "1fdc9c5b-93de-4699-91fd-928bf9fdb6b5",
   "metadata": {},
   "outputs": [],
   "source": [
    "# for loop and while loop "
   ]
  },
  {
   "cell_type": "markdown",
   "id": "5c8cc8f3-cec0-4d4d-9390-44b317d06bfc",
   "metadata": {},
   "source": [
    "# for loop "
   ]
  },
  {
   "cell_type": "code",
   "execution_count": null,
   "id": "72c9d916-8381-4435-8151-b00eb7222c99",
   "metadata": {},
   "outputs": [],
   "source": [
    "list = [ 1,2,3,4,5,6]\n",
    "for i in list:\n",
    "    print(i**2)"
   ]
  },
  {
   "cell_type": "code",
   "execution_count": null,
   "id": "b454957b-130c-412e-9a6b-3b2cf979c217",
   "metadata": {},
   "outputs": [],
   "source": [
    "list = [ 1,2,3,4,5,6]\n",
    "sum1 =0\n",
    "\n",
    "for i in list:\n",
    "    sum1 = sum1 + i\n",
    "    print(sum1)"
   ]
  },
  {
   "cell_type": "code",
   "execution_count": null,
   "id": "8c53ce64-dc2b-4f9e-af90-086387e79d6c",
   "metadata": {},
   "outputs": [],
   "source": [
    "list = [ 1,2,3,4,5,6]\n",
    "even_sum=0\n",
    "odd_sum=0\n",
    "for i in list:\n",
    "    if"
   ]
  },
  {
   "cell_type": "markdown",
   "id": "ed5e40e6-eb91-47ed-a1de-9a93e8c82a9f",
   "metadata": {},
   "source": [
    "# python opreators "
   ]
  },
  {
   "cell_type": "code",
   "execution_count": null,
   "id": "59765db5-1306-43ac-9728-fb2c7b025cf0",
   "metadata": {},
   "outputs": [],
   "source": [
    "# logical , equility ,comparision ,arithemetic "
   ]
  },
  {
   "cell_type": "code",
   "execution_count": null,
   "id": "26c79c8b-ced7-40c5-a486-7d11ad4fa316",
   "metadata": {},
   "outputs": [],
   "source": [
    "age = int(input(\"enter the age \"))\n",
    "if age < 18 or age >=35:\n",
    "    print('successful executive')"
   ]
  },
  {
   "cell_type": "code",
   "execution_count": null,
   "id": "a22f0e75-db21-4d58-b53d-9123d039f62b",
   "metadata": {},
   "outputs": [],
   "source": [
    "age = int(input(\"enter the age \"))\n",
    "if age < 18 and  age >=35:\n",
    "    print('successful executive')"
   ]
  },
  {
   "cell_type": "markdown",
   "id": "4e28e61d-de43-4e7f-afb4-1ed06cf3adb3",
   "metadata": {},
   "source": [
    "# equility opreations "
   ]
  },
  {
   "cell_type": "code",
   "execution_count": null,
   "id": "9676b0cf-8a4c-400b-b8cf-5efefb55eed1",
   "metadata": {},
   "outputs": [],
   "source": [
    "# in the equlity opreations ther is two values are define one is \"A\" and other is \"B\" then there values are chcek in bollen equations that is true or false "
   ]
  },
  {
   "cell_type": "code",
   "execution_count": null,
   "id": "29638a1d-790c-4247-a7b3-ca28e65c8112",
   "metadata": {},
   "outputs": [],
   "source": [
    "# lets chcek \n",
    "a = \"vinay\"\n",
    "b = \"vinay\"\n",
    "a == b"
   ]
  },
  {
   "cell_type": "code",
   "execution_count": null,
   "id": "4b563b96-69d7-4dc5-93f2-36926c5ace4c",
   "metadata": {},
   "outputs": [],
   "source": [
    "a = \"vinay\"\n",
    "b = \"desai\"\n",
    "a == b"
   ]
  },
  {
   "cell_type": "code",
   "execution_count": null,
   "id": "b1df1020-e205-4b56-90da-4c3b40d5691f",
   "metadata": {},
   "outputs": [],
   "source": [
    "val = int(input('enter the age '))\n",
    "if age==18:\n",
    "    print('you are the teenager age')\n",
    "    "
   ]
  },
  {
   "cell_type": "code",
   "execution_count": null,
   "id": "d14e5be8-6f8d-4a58-8597-63621eff2840",
   "metadata": {},
   "outputs": [],
   "source": [
    "a = \"vinay\"\n",
    "b =\"vinay\"\n",
    "print(id(a))\n",
    "print(id(b))\n"
   ]
  },
  {
   "cell_type": "code",
   "execution_count": null,
   "id": "3f083588-239f-4166-bc43-84859911c1bd",
   "metadata": {},
   "outputs": [],
   "source": [
    "a is b"
   ]
  },
  {
   "cell_type": "code",
   "execution_count": null,
   "id": "992e95c5-a293-4f74-8915-8feac36ecf02",
   "metadata": {},
   "outputs": [],
   "source": [
    "\"vinay\"!=\"vinay\""
   ]
  },
  {
   "cell_type": "code",
   "execution_count": null,
   "id": "5d6c315b-95f9-4032-a9fc-61984d0b3be6",
   "metadata": {},
   "outputs": [],
   "source": [
    "\"vinay\"!=\"desai\""
   ]
  },
  {
   "cell_type": "code",
   "execution_count": 5,
   "id": "99c8ca55-ae6d-422a-acbd-544a2604a748",
   "metadata": {},
   "outputs": [
    {
     "name": "stdin",
     "output_type": "stream",
     "text": [
      "enter the marks 23\n"
     ]
    },
    {
     "ename": "NameError",
     "evalue": "name 'marks' is not defined",
     "output_type": "error",
     "traceback": [
      "\u001b[1;31m---------------------------------------------------------------------------\u001b[0m",
      "\u001b[1;31mNameError\u001b[0m                                 Traceback (most recent call last)",
      "Cell \u001b[1;32mIn[5], line 2\u001b[0m\n\u001b[0;32m      1\u001b[0m val \u001b[38;5;241m=\u001b[39m \u001b[38;5;28mfloat\u001b[39m(\u001b[38;5;28minput\u001b[39m(\u001b[38;5;124m\"\u001b[39m\u001b[38;5;124menter the marks\u001b[39m\u001b[38;5;124m\"\u001b[39m))\n\u001b[1;32m----> 2\u001b[0m \u001b[38;5;28;01mif\u001b[39;00m \u001b[43mmarks\u001b[49m\u001b[38;5;241m>\u001b[39m\u001b[38;5;241m=\u001b[39m\u001b[38;5;241m35\u001b[39m:\n\u001b[0;32m      3\u001b[0m     \u001b[38;5;28mprint\u001b[39m(\u001b[38;5;124m\"\u001b[39m\u001b[38;5;124mpass\u001b[39m\u001b[38;5;124m\"\u001b[39m)\n\u001b[0;32m      4\u001b[0m \u001b[38;5;28;01melif\u001b[39;00m marks\u001b[38;5;241m>\u001b[39m\u001b[38;5;241m=\u001b[39m\u001b[38;5;241m50\u001b[39m \u001b[38;5;129;01mand\u001b[39;00m marks\u001b[38;5;241m<\u001b[39m\u001b[38;5;241m=\u001b[39m\u001b[38;5;241m70\u001b[39m:\n",
      "\u001b[1;31mNameError\u001b[0m: name 'marks' is not defined"
     ]
    }
   ],
   "source": [
    "val = float(input(\"enter the marks\"))\n",
    "if marks>=35:\n",
    "    print(\"pass\")\n",
    "elif marks>=50 and marks<=70:\n",
    "    print(\"first class\")\n",
    "elif marks<35:\n",
    "    print(\"fail\")"
   ]
  },
  {
   "cell_type": "markdown",
   "id": "67a6e8e1-c53d-4185-a3d5-faa13cfa13d6",
   "metadata": {},
   "source": [
    "# python inbulit data stucture "
   ]
  },
  {
   "cell_type": "markdown",
   "id": "ef954c74-f5c8-4763-9168-bc265b32d6d6",
   "metadata": {},
   "source": [
    " # absloute vale \n",
    " # in a absulte value there is only contains the positive number it does not contains the negative number "
   ]
  },
  {
   "cell_type": "code",
   "execution_count": 3,
   "id": "1e4e95ee-e256-4692-b607-b89f3646baa8",
   "metadata": {},
   "outputs": [
    {
     "data": {
      "text/plain": [
       "34"
      ]
     },
     "execution_count": 3,
     "metadata": {},
     "output_type": "execute_result"
    }
   ],
   "source": [
    "abs(-34)\n"
   ]
  },
  {
   "cell_type": "code",
   "execution_count": 7,
   "id": "1ec12dc3-37be-466b-995c-b8f7509d6856",
   "metadata": {},
   "outputs": [],
   "source": [
    "import math"
   ]
  },
  {
   "cell_type": "code",
   "execution_count": 9,
   "id": "dce678d9-52a0-4a08-8746-2a6cc8d0b8ec",
   "metadata": {},
   "outputs": [
    {
     "data": {
      "text/plain": [
       "46"
      ]
     },
     "execution_count": 9,
     "metadata": {},
     "output_type": "execute_result"
    }
   ],
   "source": [
    "math.ceil(45.56)"
   ]
  },
  {
   "cell_type": "code",
   "execution_count": 24,
   "id": "140ad161-718c-4791-a467-60e76479f309",
   "metadata": {},
   "outputs": [
    {
     "data": {
      "text/plain": [
       "-44"
      ]
     },
     "execution_count": 24,
     "metadata": {},
     "output_type": "execute_result"
    }
   ],
   "source": [
    "math.ceil(-44.45) # does not contains the next value in the ceil only for positive number "
   ]
  },
  {
   "cell_type": "code",
   "execution_count": 26,
   "id": "ce82c0b2-35c2-4097-9e28-84e066532294",
   "metadata": {},
   "outputs": [
    {
     "data": {
      "text/plain": [
       "43"
      ]
     },
     "execution_count": 26,
     "metadata": {},
     "output_type": "execute_result"
    }
   ],
   "source": [
    "math.ceil(42.1)"
   ]
  },
  {
   "cell_type": "markdown",
   "id": "85cab2ff-616a-4e55-8baf-5a3deeff9606",
   "metadata": {},
   "source": [
    "# floor"
   ]
  },
  {
   "cell_type": "code",
   "execution_count": 29,
   "id": "da68bebe-0536-420b-b501-8d56c39c3121",
   "metadata": {},
   "outputs": [],
   "source": [
    " import math"
   ]
  },
  {
   "cell_type": "code",
   "execution_count": 31,
   "id": "35a6ac0f-7de3-4fb1-8c2c-e625e069b1f2",
   "metadata": {},
   "outputs": [
    {
     "data": {
      "text/plain": [
       "34"
      ]
     },
     "execution_count": 31,
     "metadata": {},
     "output_type": "execute_result"
    }
   ],
   "source": [
    "math.floor(34.9)"
   ]
  },
  {
   "cell_type": "code",
   "execution_count": 33,
   "id": "dae3e0d4-0132-41fc-b017-099874e408e9",
   "metadata": {},
   "outputs": [
    {
     "data": {
      "text/plain": [
       "-57"
      ]
     },
     "execution_count": 33,
     "metadata": {},
     "output_type": "execute_result"
    }
   ],
   "source": [
    "math.floor(-56.7) # the negative number contains next value in the floor"
   ]
  },
  {
   "cell_type": "markdown",
   "id": "f2285230-0f57-4319-9970-784533629951",
   "metadata": {},
   "source": [
    "# expontial value "
   ]
  },
  {
   "cell_type": "code",
   "execution_count": 36,
   "id": "2e93ccfa-7404-4ac5-9431-572315115c98",
   "metadata": {},
   "outputs": [],
   "source": [
    "import math "
   ]
  },
  {
   "cell_type": "code",
   "execution_count": 38,
   "id": "724942be-0648-45dd-ae71-1e00a704166f",
   "metadata": {},
   "outputs": [
    {
     "data": {
      "text/plain": [
       "22026.465794806718"
      ]
     },
     "execution_count": 38,
     "metadata": {},
     "output_type": "execute_result"
    }
   ],
   "source": [
    "math.exp(10)"
   ]
  },
  {
   "cell_type": "code",
   "execution_count": 40,
   "id": "a21122a4-cd50-47f8-b401-7f1bc8985b62",
   "metadata": {},
   "outputs": [
    {
     "data": {
      "text/plain": [
       "4.5399929762484854e-05"
      ]
     },
     "execution_count": 40,
     "metadata": {},
     "output_type": "execute_result"
    }
   ],
   "source": [
    "math.exp(-10)"
   ]
  },
  {
   "cell_type": "markdown",
   "id": "ba856c0b-726a-4b76-942b-7f7570601039",
   "metadata": {},
   "source": [
    "# math fabb"
   ]
  },
  {
   "cell_type": "code",
   "execution_count": 43,
   "id": "ca748d3c-b7b3-4172-b064-833e322063de",
   "metadata": {},
   "outputs": [
    {
     "data": {
      "text/plain": [
       "19.6"
      ]
     },
     "execution_count": 43,
     "metadata": {},
     "output_type": "execute_result"
    }
   ],
   "source": [
    "math.fabs(19.6)"
   ]
  },
  {
   "cell_type": "code",
   "execution_count": 45,
   "id": "084211de-5cdd-46da-a7f7-194f6be4997c",
   "metadata": {},
   "outputs": [
    {
     "data": {
      "text/plain": [
       "19.0"
      ]
     },
     "execution_count": 45,
     "metadata": {},
     "output_type": "execute_result"
    }
   ],
   "source": [
    "math.fabs(-19)"
   ]
  },
  {
   "cell_type": "markdown",
   "id": "7b3ef9fc-d1c7-4d8a-a0b2-d85b60f9429e",
   "metadata": {},
   "source": [
    "# logs"
   ]
  },
  {
   "cell_type": "code",
   "execution_count": 48,
   "id": "d9a41de6-afd4-4163-95bb-dd90d436faaf",
   "metadata": {},
   "outputs": [
    {
     "data": {
      "text/plain": [
       "2.995732273553991"
      ]
     },
     "execution_count": 48,
     "metadata": {},
     "output_type": "execute_result"
    }
   ],
   "source": [
    "math.log(20)"
   ]
  },
  {
   "cell_type": "code",
   "execution_count": 50,
   "id": "6df2d60e-e8f7-4284-b9c1-13a4c4c7a3f4",
   "metadata": {},
   "outputs": [
    {
     "data": {
      "text/plain": [
       "3.506457892319648"
      ]
     },
     "execution_count": 50,
     "metadata": {},
     "output_type": "execute_result"
    }
   ],
   "source": [
    "math.log(33.33)"
   ]
  },
  {
   "cell_type": "code",
   "execution_count": 52,
   "id": "60a2aed9-5ace-4399-9217-39ceaef0f6d7",
   "metadata": {},
   "outputs": [
    {
     "data": {
      "text/plain": [
       "1.8166389448984614"
      ]
     },
     "execution_count": 52,
     "metadata": {},
     "output_type": "execute_result"
    }
   ],
   "source": [
    "math.log10(65.56)"
   ]
  },
  {
   "cell_type": "code",
   "execution_count": 54,
   "id": "68637840-6571-428c-b8c1-94b699b0e53d",
   "metadata": {},
   "outputs": [
    {
     "data": {
      "text/plain": [
       "1.0"
      ]
     },
     "execution_count": 54,
     "metadata": {},
     "output_type": "execute_result"
    }
   ],
   "source": [
    "math.log10(10)"
   ]
  },
  {
   "cell_type": "markdown",
   "id": "9fafa62f-7785-4b36-9cff-83aa2f81662c",
   "metadata": {},
   "source": [
    "# pow"
   ]
  },
  {
   "cell_type": "code",
   "execution_count": 57,
   "id": "0594935f-6a33-4d8f-9f93-c06220268df0",
   "metadata": {},
   "outputs": [],
   "source": [
    " import math"
   ]
  },
  {
   "cell_type": "code",
   "execution_count": 59,
   "id": "e7b3d9e5-717e-4928-a81f-0cb449e25b2d",
   "metadata": {},
   "outputs": [
    {
     "data": {
      "text/plain": [
       "3200000.0"
      ]
     },
     "execution_count": 59,
     "metadata": {},
     "output_type": "execute_result"
    }
   ],
   "source": [
    "math.pow(20,5)"
   ]
  },
  {
   "cell_type": "markdown",
   "id": "1aa6bc5e-dbb0-4151-bc16-d67e056cfd28",
   "metadata": {},
   "source": [
    "# sqrtt"
   ]
  },
  {
   "cell_type": "code",
   "execution_count": 62,
   "id": "e5934fa7-1647-4de9-9203-94f58d40782c",
   "metadata": {},
   "outputs": [
    {
     "data": {
      "text/plain": [
       "4.47213595499958"
      ]
     },
     "execution_count": 62,
     "metadata": {},
     "output_type": "execute_result"
    }
   ],
   "source": [
    "math.sqrt(20)"
   ]
  },
  {
   "cell_type": "code",
   "execution_count": 64,
   "id": "a3c401bd-eb82-4b66-bb08-d465c08627cf",
   "metadata": {},
   "outputs": [
    {
     "data": {
      "text/plain": [
       "4.0"
      ]
     },
     "execution_count": 64,
     "metadata": {},
     "output_type": "execute_result"
    }
   ],
   "source": [
    "math.sqrt(16)"
   ]
  },
  {
   "cell_type": "markdown",
   "id": "a9a6e309-210e-43be-a2ab-47af779585ae",
   "metadata": {},
   "source": [
    "# trigonometric functions "
   ]
  },
  {
   "cell_type": "code",
   "execution_count": 69,
   "id": "973678f3-0d15-47dc-95a0-4afb3e6decb2",
   "metadata": {},
   "outputs": [
    {
     "data": {
      "text/plain": [
       "0.8939966636005579"
      ]
     },
     "execution_count": 69,
     "metadata": {},
     "output_type": "execute_result"
    }
   ],
   "source": [
    "math.sin(90)"
   ]
  },
  {
   "cell_type": "code",
   "execution_count": 71,
   "id": "58539218-1e84-4dd6-865f-6c2a51ec2341",
   "metadata": {},
   "outputs": [
    {
     "data": {
      "text/plain": [
       "-0.8011526357338304"
      ]
     },
     "execution_count": 71,
     "metadata": {},
     "output_type": "execute_result"
    }
   ],
   "source": [
    "math.sin(180)"
   ]
  },
  {
   "cell_type": "markdown",
   "id": "143950fe-c201-4abb-8d02-7ef68413e3b2",
   "metadata": {},
   "source": [
    "# hypotenouse "
   ]
  },
  {
   "cell_type": "code",
   "execution_count": 74,
   "id": "30cfc883-5955-4b20-af73-ec6999bfe9a4",
   "metadata": {},
   "outputs": [
    {
     "data": {
      "text/plain": [
       "3.605551275463989"
      ]
     },
     "execution_count": 74,
     "metadata": {},
     "output_type": "execute_result"
    }
   ],
   "source": [
    "math.hypot(2,3)"
   ]
  },
  {
   "cell_type": "code",
   "execution_count": 76,
   "id": "2508412a-fc14-4045-ac75-58751123bc89",
   "metadata": {},
   "outputs": [
    {
     "data": {
      "text/plain": [
       "(0.0, 10.0)"
      ]
     },
     "execution_count": 76,
     "metadata": {},
     "output_type": "execute_result"
    }
   ],
   "source": [
    "math.modf(10)"
   ]
  },
  {
   "cell_type": "code",
   "execution_count": null,
   "id": "45ce077e-3b47-45c3-b1d9-547f6f7ec42e",
   "metadata": {},
   "outputs": [],
   "source": [
    "# program to check prime no \n",
    "# program to check max 3 number "
   ]
  },
  {
   "cell_type": "markdown",
   "id": "21a90047-e0cb-41d1-868b-3884fc8336f1",
   "metadata": {},
   "source": [
    "# lists ,dictionay and sets "
   ]
  },
  {
   "cell_type": "code",
   "execution_count": 95,
   "id": "1d3c7b9f-ad86-4c98-a285-44cd9d61dd2a",
   "metadata": {},
   "outputs": [
    {
     "name": "stdout",
     "output_type": "stream",
     "text": [
      "[1, 2, 3, 4]\n"
     ]
    }
   ],
   "source": [
    "lst = [1,2,3,4]\n",
    "print(lst)"
   ]
  },
  {
   "cell_type": "markdown",
   "id": "978de0dc-28c9-45d5-89b8-151396066260",
   "metadata": {},
   "source": [
    "# append "
   ]
  },
  {
   "cell_type": "code",
   "execution_count": 97,
   "id": "752b6ea4-d3be-419b-b80e-186dc4832c6b",
   "metadata": {},
   "outputs": [
    {
     "data": {
      "text/plain": [
       "list"
      ]
     },
     "execution_count": 97,
     "metadata": {},
     "output_type": "execute_result"
    }
   ],
   "source": [
    "type(lst)"
   ]
  },
  {
   "cell_type": "code",
   "execution_count": 103,
   "id": "9ed24c76-9764-4136-bc90-a11b2c1671bb",
   "metadata": {},
   "outputs": [
    {
     "name": "stdout",
     "output_type": "stream",
     "text": [
      "[1, 2, 3, 4, 'vinay', 'vinay', 'vinay']\n"
     ]
    }
   ],
   "source": [
    "lst.append(\"vinay\")\n",
    "print(lst)"
   ]
  },
  {
   "cell_type": "code",
   "execution_count": 105,
   "id": "c85fafa1-2a04-49a7-91bc-8d5dbee7fa41",
   "metadata": {},
   "outputs": [
    {
     "data": {
      "text/plain": [
       "[1, 2, 3, 4, 'vinay', 'vinay', 'vinay', ['desai', 'pragati']]"
      ]
     },
     "execution_count": 105,
     "metadata": {},
     "output_type": "execute_result"
    }
   ],
   "source": [
    "lst.append (['desai','pragati'])\n",
    "lst"
   ]
  },
  {
   "cell_type": "code",
   "execution_count": 107,
   "id": "1b84b7c1-016a-4a3f-9dd0-e1ee19865a02",
   "metadata": {},
   "outputs": [
    {
     "data": {
      "text/plain": [
       "['desai', 'pragati']"
      ]
     },
     "execution_count": 107,
     "metadata": {},
     "output_type": "execute_result"
    }
   ],
   "source": [
    "lst[7]"
   ]
  },
  {
   "cell_type": "code",
   "execution_count": 111,
   "id": "06999756-5f0b-4121-a438-5ee59953777c",
   "metadata": {},
   "outputs": [
    {
     "data": {
      "text/plain": [
       "[4, 'vinay', 'vinay', 'vinay', ['desai', 'pragati']]"
      ]
     },
     "execution_count": 111,
     "metadata": {},
     "output_type": "execute_result"
    }
   ],
   "source": [
    "lst[3:8]"
   ]
  },
  {
   "cell_type": "markdown",
   "id": "9636b5aa-f316-4b78-9beb-c36ffeaa51aa",
   "metadata": {},
   "source": [
    "# insert"
   ]
  },
  {
   "cell_type": "code",
   "execution_count": 115,
   "id": "2485718e-03b5-453d-b586-5e5c1c007970",
   "metadata": {},
   "outputs": [
    {
     "name": "stdout",
     "output_type": "stream",
     "text": [
      "[1, 2, 3, 4, 'vinay', 'vinay', 'vinay', ['desai', 'pragati']]\n"
     ]
    }
   ],
   "source": [
    "print(lst)"
   ]
  },
  {
   "cell_type": "code",
   "execution_count": 121,
   "id": "c7ddee09-8927-486f-b3ac-f4ea1a0dd906",
   "metadata": {},
   "outputs": [],
   "source": [
    "lst.insert(2,\"samu\")"
   ]
  },
  {
   "cell_type": "code",
   "execution_count": 125,
   "id": "8b47da1b-0023-444e-b22e-995e438768ac",
   "metadata": {},
   "outputs": [
    {
     "data": {
      "text/plain": [
       "[1, 2, 'samu', 'samu', 3, 4, 'vinay', 'vinay', 'vinay', ['desai', 'pragati']]"
      ]
     },
     "execution_count": 125,
     "metadata": {},
     "output_type": "execute_result"
    }
   ],
   "source": [
    "(lst)"
   ]
  },
  {
   "cell_type": "code",
   "execution_count": 127,
   "id": "fe3c23f6-c008-4021-bd89-74166ffd0b08",
   "metadata": {},
   "outputs": [
    {
     "data": {
      "text/plain": [
       "[1, 2, 'samu', 'samu', 3, 4, 'vinay', 'vinay', 'vinay', ['desai', 'pragati']]"
      ]
     },
     "execution_count": 127,
     "metadata": {},
     "output_type": "execute_result"
    }
   ],
   "source": [
    "lst\n"
   ]
  },
  {
   "cell_type": "code",
   "execution_count": 129,
   "id": "1d287e42-d748-4d9e-85c0-e7ac52a78e7f",
   "metadata": {},
   "outputs": [
    {
     "data": {
      "text/plain": [
       "['desai', 'pragati']"
      ]
     },
     "execution_count": 129,
     "metadata": {},
     "output_type": "execute_result"
    }
   ],
   "source": [
    "lst.pop()"
   ]
  },
  {
   "cell_type": "code",
   "execution_count": 135,
   "id": "97824893-347a-4bc6-92ee-97aea8324a28",
   "metadata": {},
   "outputs": [
    {
     "data": {
      "text/plain": [
       "'samu'"
      ]
     },
     "execution_count": 135,
     "metadata": {},
     "output_type": "execute_result"
    }
   ],
   "source": [
    "lst.pop(3)"
   ]
  },
  {
   "cell_type": "code",
   "execution_count": 137,
   "id": "65f99d88-ae2b-4e2c-bd69-388f76fc4630",
   "metadata": {},
   "outputs": [
    {
     "data": {
      "text/plain": [
       "[1, 2, 'samu', 3, 4, 'vinay', 'vinay', 'vinay']"
      ]
     },
     "execution_count": 137,
     "metadata": {},
     "output_type": "execute_result"
    }
   ],
   "source": [
    "lst"
   ]
  },
  {
   "cell_type": "markdown",
   "id": "a2fb2632-4ee5-445c-a21c-769142d167b8",
   "metadata": {},
   "source": [
    "# sets and inbulit functions "
   ]
  },
  {
   "cell_type": "code",
   "execution_count": 140,
   "id": "220ae531-1c8a-458f-9c5c-e9fe92048c80",
   "metadata": {},
   "outputs": [
    {
     "name": "stdout",
     "output_type": "stream",
     "text": [
      "{1, 2, 3, 4, 5, 6}\n"
     ]
    }
   ],
   "source": [
    "set_var = ({1,2,3,4,5,6})\n",
    "print(set_var)"
   ]
  },
  {
   "cell_type": "code",
   "execution_count": 142,
   "id": "5cce7198-9b0d-4401-8bb0-6b41a2e21fc0",
   "metadata": {},
   "outputs": [
    {
     "data": {
      "text/plain": [
       "set"
      ]
     },
     "execution_count": 142,
     "metadata": {},
     "output_type": "execute_result"
    }
   ],
   "source": [
    "type(set_var)"
   ]
  },
  {
   "cell_type": "markdown",
   "id": "9fc46b2f-bbea-4808-ad30-b2422da970b7",
   "metadata": {},
   "source": [
    "# inbulit functions of sets "
   ]
  },
  {
   "cell_type": "markdown",
   "id": "950cbc33-9067-4ceb-9795-4718d3595187",
   "metadata": {},
   "source": [
    "# 1) add "
   ]
  },
  {
   "cell_type": "code",
   "execution_count": 151,
   "id": "c18d81be-ad94-4690-af1c-77a113cedf52",
   "metadata": {},
   "outputs": [],
   "source": [
    "set_var.add(\"vinay\")"
   ]
  },
  {
   "cell_type": "code",
   "execution_count": 153,
   "id": "c51e2cff-2f2b-484c-970d-e1801e1964ff",
   "metadata": {},
   "outputs": [
    {
     "data": {
      "text/plain": [
       "{1, 2, 3, 4, 5, 6, 'vinay'}"
      ]
     },
     "execution_count": 153,
     "metadata": {},
     "output_type": "execute_result"
    }
   ],
   "source": [
    "set_var"
   ]
  },
  {
   "cell_type": "code",
   "execution_count": 157,
   "id": "74b79501-8567-429b-8bfc-7ec36a589a26",
   "metadata": {},
   "outputs": [
    {
     "ename": "TypeError",
     "evalue": "set.clear() takes no arguments (1 given)",
     "output_type": "error",
     "traceback": [
      "\u001b[1;31m---------------------------------------------------------------------------\u001b[0m",
      "\u001b[1;31mTypeError\u001b[0m                                 Traceback (most recent call last)",
      "Cell \u001b[1;32mIn[157], line 1\u001b[0m\n\u001b[1;32m----> 1\u001b[0m \u001b[43mset_var\u001b[49m\u001b[38;5;241;43m.\u001b[39;49m\u001b[43mclear\u001b[49m\u001b[43m(\u001b[49m\u001b[38;5;124;43m\"\u001b[39;49m\u001b[38;5;124;43mvinay\u001b[39;49m\u001b[38;5;124;43m\"\u001b[39;49m\u001b[43m)\u001b[49m\n\u001b[0;32m      2\u001b[0m \u001b[38;5;28mprint\u001b[39m(set_var)\n",
      "\u001b[1;31mTypeError\u001b[0m: set.clear() takes no arguments (1 given)"
     ]
    }
   ],
   "source": []
  },
  {
   "cell_type": "code",
   "execution_count": null,
   "id": "b068210b-2e75-4adc-a794-cb117bad88e9",
   "metadata": {},
   "outputs": [],
   "source": []
  }
 ],
 "metadata": {
  "kernelspec": {
   "display_name": "Python 3 (ipykernel)",
   "language": "python",
   "name": "python3"
  },
  "language_info": {
   "codemirror_mode": {
    "name": "ipython",
    "version": 3
   },
   "file_extension": ".py",
   "mimetype": "text/x-python",
   "name": "python",
   "nbconvert_exporter": "python",
   "pygments_lexer": "ipython3",
   "version": "3.12.4"
  }
 },
 "nbformat": 4,
 "nbformat_minor": 5
}
